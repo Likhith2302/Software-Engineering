# Stage 3: Reading from a File

def quadratic_weather_model(a, b, c, x):
    # Calculate the value using the quadratic equation
    y = a * x**2 + b * x + c
    return y

# Read coefficients and input value from the file
with open('coeff.txt', 'r') as file:
    for line in file:
        # Split the line into values and convert them to float
        a, b, c, x = map(float, line.split())

        # Calculate the result using the quadratic model
        result = quadratic_weather_model(a, b, c, x)

        # Print the result
        print(f"For x={x}, the result is: {result}")


Output:-
For x=4.0, the result is: 75.0
For x=3.0, the result is: 115.0
For x=2.0, the result is: -20.0
